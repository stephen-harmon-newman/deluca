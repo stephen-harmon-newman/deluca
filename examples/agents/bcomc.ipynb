{
 "cells": [
  {
   "cell_type": "code",
   "execution_count": 1,
   "metadata": {},
   "outputs": [],
   "source": [
    "%load_ext autoreload\n",
    "%autoreload 2"
   ]
  },
  {
   "cell_type": "code",
   "execution_count": 2,
   "metadata": {},
   "outputs": [
    {
     "name": "stderr",
     "output_type": "stream",
     "text": [
      "No GPU/TPU found, falling back to CPU. (Set TF_CPP_MIN_LOG_LEVEL=0 and rerun for more info.)\n",
      "/home/stephen/anaconda3/lib/python3.10/site-packages/gym/spaces/box.py:127: UserWarning: \u001b[33mWARN: Box bound precision lowered by casting to float32\u001b[0m\n",
      "  logger.warn(f\"Box bound precision lowered by casting to {self.dtype}\")\n"
     ]
    }
   ],
   "source": [
    "from deluca.agents import BPC, LQR, BCOMC\n",
    "from deluca.envs import LDS\n",
    "import jax.numpy as jnp\n",
    "import jax\n",
    "import numpy as np\n",
    "\n",
    "from jax.config import config\n",
    "config.update(\"jax_debug_nans\", True)\n",
    "import matplotlib.pyplot as plt"
   ]
  },
  {
   "cell_type": "code",
   "execution_count": 3,
   "metadata": {},
   "outputs": [],
   "source": [
    "def get_err(T, lds, controller, noise, random_key=jax.random.PRNGKey(42)):\n",
    "    lds.reset()\n",
    "    avg_err = 0\n",
    "    err = 0\n",
    "    mavg_err = []\n",
    "    prev_noise = jnp.zeros(shape=lds.state.shape)\n",
    "    key = random_key\n",
    "    last_avg_err = 0\n",
    "    for i in range(T):\n",
    "\n",
    "        key, subkey = jax.random.split(key)\n",
    "        try:\n",
    "            action = controller(lds.obs, err)\n",
    "        except:\n",
    "            action = controller(lds.obs)\n",
    "        lds.step(action)\n",
    "        if noise == \"Gaussian\":\n",
    "            lds.state += 0.03 * jax.random.normal(subkey, shape=lds.state.shape)\n",
    "        elif noise == \"Sinusoidal\":\n",
    "            lds.state += 0.03 * jnp.sin(i/(20 * np.pi))\n",
    "        elif noise == \"GaussianWalk\":\n",
    "            prev_noise = prev_noise + jax.random.normal(subkey, shape=lds.state.shape)\n",
    "            lds.state += 0.03 * prev_noise / np.sqrt(T)\n",
    "        elif noise == \"None\":\n",
    "            pass\n",
    "        else:\n",
    "            raise ValueError(\"Noise type unrecognized!\")\n",
    "        err = (jnp.linalg.norm(lds.state)**2+jnp.linalg.norm(action)**2)\n",
    "        last_avg_err += err\n",
    "        if (i+1) % 100 == 0:\n",
    "            print(str(i+1) + \" avg err:\", last_avg_err/100)\n",
    "            last_avg_err = 0\n",
    "        avg_err += err/T\n",
    "        mavg_err += [err / (i+1)]\n",
    "    return avg_err, np.array(mavg_err)"
   ]
  },
  {
   "cell_type": "code",
   "execution_count": 4,
   "metadata": {},
   "outputs": [],
   "source": [
    "T = 100000\n",
    "\n",
    "system = \"DI\" # one of \"DI\", \"LargeSparse\"\n",
    "noise = \"Gaussian\" # one of \"Gaussian\", \"GaussianWalk\", \"SinusoidalMult\", \"None\"\n",
    "\n",
    "if system == \"DI\":\n",
    "    A = jnp.array([[.9, .9], [-0.01, .9]])\n",
    "    B = jnp.array([[0], [1]])\n",
    "elif system == \"LargeSparse\":\n",
    "    A = jnp.array([[.3, 0, 0, .4, .1], [0, .5, .5, .5, 0], [.05, .05, .05, .05, 0], [.3, 0, 0, 0, 0], [4, 0, 0, 0, .1]])\n",
    "    B = jnp.array([[2, 0, 0], [0, .3, .1], [0, .1, .3], [0, 0, 0], [0, 0, 0]])\n",
    "else:\n",
    "    raise ValueError(\"System type unrecognized!\")\n",
    "#A,B = jnp.array([[.8,.5], [0,.8]]), jnp.array([[0],[0.8]])\n"
   ]
  },
  {
   "cell_type": "code",
   "execution_count": null,
   "metadata": {},
   "outputs": [],
   "source": [
    "bpc = BPC(A, B, lr_scale=1e-3, delta=1/T)\n",
    "bpc_avg_err, bpc_mavg_err = get_err(T, LDS(state_size= B.shape[0], action_size=B.shape[1], A=A, B=B), bpc, noise)\n",
    "print(\"BPC incurs \", bpc_avg_err, \" loss\")"
   ]
  },
  {
   "cell_type": "code",
   "execution_count": null,
   "metadata": {},
   "outputs": [],
   "source": [
    "lqr = LQR(A, B)\n",
    "lqr_avg_err, lqr_mavg_err = get_err(T, LDS(state_size= B.shape[0], action_size=B.shape[1], A=A, B=B), lqr, noise)\n",
    "print(\"LQR incurs \", lqr_avg_err, \" loss\")"
   ]
  },
  {
   "cell_type": "code",
   "execution_count": 6,
   "metadata": {},
   "outputs": [
    {
     "name": "stdout",
     "output_type": "stream",
     "text": [
      "eta: 0.041425253237137964\n"
     ]
    }
   ],
   "source": [
    "bcomc = BCOMC(\n",
    "    A = A,\n",
    "    B = B,\n",
    "    C = jnp.identity(A.shape[0]),\n",
    "    T = T,\n",
    "    H = 5,   # To change, but good for debug\n",
    "    cost_bound = 1e5,\n",
    "    R = 5,\n",
    "    beta = 5.0,\n",
    "    sigma = 0.2,\n",
    "    eta_mul = 1e5,\n",
    "    grad_mul = 1e-5, # Typically wants to decrease as eta_mul increases to offset its effect\n",
    ")\n",
    "bcomc_avg_err, bcomc_mavg_err = get_err(T, LDS(state_size=B.shape[0], action_size=B.shape[1], A=A, B=B), bcomc, noise)\n",
    "print(\"BCOMC incurs \", bcomc_avg_err, \" loss\")"
   ]
  },
  {
   "cell_type": "code",
   "execution_count": null,
   "metadata": {},
   "outputs": [],
   "source": []
  }
 ],
 "metadata": {
  "kernelspec": {
   "display_name": "Python 3",
   "language": "python",
   "name": "python3"
  },
  "language_info": {
   "codemirror_mode": {
    "name": "ipython",
    "version": 3
   },
   "file_extension": ".py",
   "mimetype": "text/x-python",
   "name": "python",
   "nbconvert_exporter": "python",
   "pygments_lexer": "ipython3",
   "version": "3.10.9"
  }
 },
 "nbformat": 4,
 "nbformat_minor": 4
}
